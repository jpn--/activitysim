{
 "cells": [
  {
   "cell_type": "markdown",
   "metadata": {},
   "source": [
    "# Trips in time and space order\n",
    "Sorts output trips in time and space order, which is useful for disaggregate (individual) dynamic traffic assignment and person time/space visualization.  Trips in time and space order means the trip origin, destination, and depart period from one trip to the next makes sense."
   ]
  },
  {
   "cell_type": "markdown",
   "metadata": {},
   "source": [
    "# Input and output filenames"
   ]
  },
  {
   "cell_type": "code",
   "execution_count": 1,
   "metadata": {},
   "outputs": [],
   "source": [
    "pipeline_filename = 'example/output/pipeline.h5'\n",
    "output_trip_filename = \"example/output/final_trips_time_space_order.csv\""
   ]
  },
  {
   "cell_type": "markdown",
   "metadata": {},
   "source": [
    "# Libraries"
   ]
  },
  {
   "cell_type": "code",
   "execution_count": 2,
   "metadata": {},
   "outputs": [],
   "source": [
    "import pandas as pd\n",
    "import numpy as np\n",
    "import itertools"
   ]
  },
  {
   "cell_type": "markdown",
   "metadata": {},
   "source": [
    "# Read tables directly from the pipeline"
   ]
  },
  {
   "cell_type": "code",
   "execution_count": 19,
   "metadata": {
    "scrolled": true
   },
   "outputs": [],
   "source": [
    "# get tables (if run as mp then trip_mode_choice is final state of the tables) \n",
    "pipeline = pd.io.pytables.HDFStore(pipeline_filename)\n",
    "tours = pipeline['/tours/stop_frequency']\n",
    "trips = pipeline['/trips/trip_mode_choice']\n",
    "jtp = pipeline['/joint_tour_participants/joint_tour_participation']"
   ]
  },
  {
   "cell_type": "markdown",
   "metadata": {},
   "source": [
    "# Add related fields, including joint trip participants"
   ]
  },
  {
   "cell_type": "code",
   "execution_count": 20,
   "metadata": {},
   "outputs": [],
   "source": [
    "trips[\"tour_participants\"] = trips.tour_id.map(tours.number_of_participants)\n",
    "trips[\"tour_category\"] = trips.tour_id.map(tours.tour_category)\n",
    "trips[\"parent_tour_id\"] = trips.tour_id.map(tours.index.to_series()).map(tours.parent_tour_id)\n",
    "trips[\"tour_start\"] = trips.tour_id.map(tours.start)\n",
    "trips[\"parent_tour_start\"] = trips.parent_tour_id.map(tours.start)\n",
    "trips[\"parent_tour_end\"] = trips.parent_tour_id.map(tours.end)"
   ]
  },
  {
   "cell_type": "markdown",
   "metadata": {},
   "source": [
    "# Create additional trips records for other persons on joint trips"
   ]
  },
  {
   "cell_type": "code",
   "execution_count": 21,
   "metadata": {},
   "outputs": [],
   "source": [
    "tour_person_ids = jtp.groupby(\"tour_id\").apply(lambda x: pd.Series({\"person_ids\": \" \".join(x[\"person_id\"].astype(\"str\"))}))\n",
    "trips = trips.join(tour_person_ids, \"tour_id\")\n",
    "trips[\"person_ids\"] = trips[\"person_ids\"].fillna(\"\")\n",
    "trips.person_ids = trips.person_ids.where(trips.person_ids!=\"\", trips.person_id)\n",
    "trips[\"person_ids\"] = trips[\"person_ids\"].astype(str)\n",
    "\n",
    "person_ids = [*map(lambda x: x.split(\" \"),trips.person_ids.tolist())]\n",
    "person_ids = list(itertools.chain.from_iterable(person_ids))\n",
    "\n",
    "trips_expanded = trips.loc[np.repeat(trips.index, trips['tour_participants'])]\n",
    "trips_expanded.person_id = person_ids"
   ]
  },
  {
   "cell_type": "markdown",
   "metadata": {},
   "source": [
    "# Pull out joint and at-work trips "
   ]
  },
  {
   "cell_type": "code",
   "execution_count": 44,
   "metadata": {},
   "outputs": [],
   "source": [
    "trips_expanded[\"inbound\"] = ~trips_expanded.outbound\n",
    "atwork_trips = trips_expanded[trips_expanded.tour_category == \"atwork\"]\n",
    "joint_trips = trips_expanded[trips_expanded.tour_category == \"joint\"]\n",
    "mnm_trips = trips_expanded[(trips_expanded.tour_category == \"mandatory\") | (trips_expanded.tour_category == \"non_mandatory\")]"
   ]
  },
  {
   "cell_type": "markdown",
   "metadata": {},
   "source": [
    "# Sort records"
   ]
  },
  {
   "cell_type": "code",
   "execution_count": 45,
   "metadata": {},
   "outputs": [],
   "source": [
    "mnm_trips = mnm_trips.sort_values(['person_id','tour_start','tour_id','inbound','trip_num'])\n",
    "atwork_trips = atwork_trips.sort_values(['person_id','tour_start','tour_id','inbound','trip_num'])\n",
    "joint_trips = joint_trips.sort_values(['person_id','tour_start','tour_id','inbound','trip_num'])"
   ]
  },
  {
   "cell_type": "markdown",
   "metadata": {},
   "source": [
    "# Put at-work trips back in at the correct spot"
   ]
  },
  {
   "cell_type": "code",
   "execution_count": 170,
   "metadata": {},
   "outputs": [],
   "source": [
    "mnm_trips[\"trip_id\"] = mnm_trips.index\n",
    "atwork_trips[\"trip_id\"] = atwork_trips.index\n",
    "\n",
    "mnm_last_trips = mnm_trips[mnm_trips.trip_num == mnm_trips.trip_count]\n",
    "parent_tour_trips_with_atwork_trips = mnm_last_trips.merge(atwork_trips, left_on=\"tour_id\", right_on=\"parent_tour_id\")\n",
    "parent_tour_trips_with_atwork_trips[\"atwork_depart_after\"] = parent_tour_trips_with_atwork_trips.eval(\"depart_y >= depart_x\")\n",
    "\n",
    "parent_trip_id = parent_tour_trips_with_atwork_trips[parent_tour_trips_with_atwork_trips[\"atwork_depart_after\"]][[\"trip_id_x\",\"trip_id_y\"]]\n",
    "parent_trip_id.index = parent_trip_id[\"trip_id_y\"]\n",
    "parent_trip_id[\"parent_trip_id\"] = parent_trip_id[\"trip_id_x\"]\n",
    "\n",
    "parent_trip_id[\"parent_trip_id\"] = parent_trip_id[\"parent_trip_id\"].astype('complex128')\n",
    "\n",
    "parent_trip_id[\"parent_trip_id\"] = parent_trip_id[\"parent_trip_id\"] + 0.1\n",
    "parent_trip_id[\"parent_trip_id\"] = parent_trip_id[\"parent_trip_id\"].where(~parent_trip_id[\"parent_trip_id\"].duplicated(), parent_trip_id[\"parent_trip_id\"] + 0.1)\n",
    "parent_trip_id[\"parent_trip_id\"] = parent_trip_id[\"parent_trip_id\"].where(~parent_trip_id[\"parent_trip_id\"].duplicated(), parent_trip_id[\"parent_trip_id\"] + 0.1)\n",
    "parent_trip_id[\"parent_trip_id\"] = parent_trip_id[\"parent_trip_id\"].where(~parent_trip_id[\"parent_trip_id\"].duplicated(), parent_trip_id[\"parent_trip_id\"] + 0.1)\n",
    "parent_trip_id[\"parent_trip_id\"] = parent_trip_id[\"parent_trip_id\"].where(~parent_trip_id[\"parent_trip_id\"].duplicated(), parent_trip_id[\"parent_trip_id\"] + 0.1)\n",
    "\n",
    "parent_trip_id = parent_trip_id[~parent_trip_id.trip_id_y.duplicated()]\n",
    "\n",
    "atwork_trips[\"trip_id\"] = atwork_trips[\"trip_id\"].astype('complex128')\n",
    "\n",
    "atwork_trips[\"parent_trip_id\"] = atwork_trips.trip_id.map(parent_trip_id.parent_trip_id)\n",
    "\n",
    "atwork_trips[\"trip_id\"] = parent_trip_id[\"parent_trip_id\"]"
   ]
  },
  {
   "cell_type": "markdown",
   "metadata": {},
   "source": [
    "# Write all trips"
   ]
  },
  {
   "cell_type": "code",
   "execution_count": 171,
   "metadata": {},
   "outputs": [],
   "source": [
    "mnm_trips[\"trip_id\"] = mnm_trips[\"trip_id\"].astype('complex128')\n",
    "\n",
    "all_trips = mnm_trips.append(atwork_trips)#.append(joint_trips)\n",
    "\n",
    "all_trips = all_trips.sort_values(['trip_id'])\n",
    "all_trips.to_csv(output_trip_filename)"
   ]
  }
 ],
 "metadata": {
  "colab": {
   "name": "asim_tutorial.ipynb",
   "provenance": [],
   "toc_visible": true
  },
  "kernelspec": {
   "display_name": "Python 3",
   "language": "python",
   "name": "python3"
  },
  "language_info": {
   "codemirror_mode": {
    "name": "ipython",
    "version": 3
   },
   "file_extension": ".py",
   "mimetype": "text/x-python",
   "name": "python",
   "nbconvert_exporter": "python",
   "pygments_lexer": "ipython3",
   "version": "3.7.0"
  }
 },
 "nbformat": 4,
 "nbformat_minor": 1
}
