{
 "cells": [
  {
   "cell_type": "markdown",
   "metadata": {},
   "source": [
    "# Sort and attribute trips in correct time and space order\n",
    "\n",
    "Still to do - pull out joint and atwork trips and then put back in after sorting"
   ]
  },
  {
   "cell_type": "markdown",
   "metadata": {},
   "source": [
    "# Input and output filenames"
   ]
  },
  {
   "cell_type": "code",
   "execution_count": null,
   "metadata": {},
   "outputs": [],
   "source": [
    "pipeline_filename = 'output/pipeline.h5'\n",
    "output_trip_filename = \"output/final_trips_time_space_id.csv\""
   ]
  },
  {
   "cell_type": "markdown",
   "metadata": {},
   "source": [
    "# Libraries"
   ]
  },
  {
   "cell_type": "code",
   "execution_count": null,
   "metadata": {},
   "outputs": [],
   "source": [
    "import pandas as pd\n",
    "import numpy as np\n",
    "import itertools"
   ]
  },
  {
   "cell_type": "markdown",
   "metadata": {},
   "source": [
    "# Read tables directly from the pipeline"
   ]
  },
  {
   "cell_type": "code",
   "execution_count": null,
   "metadata": {},
   "outputs": [],
   "source": [
    "# get tables (if run as mp then trip_mode_choice is final state of the tables) \n",
    "pipeline = pd.io.pytables.HDFStore(pipeline_filename)\n",
    "tours = pipeline['/tours/trip_mode_choice']\n",
    "trips = pipeline['/trips/trip_mode_choice']\n",
    "jtp = pipeline['/joint_tour_participants/trip_mode_choice']"
   ]
  },
  {
   "cell_type": "markdown",
   "metadata": {},
   "source": [
    "# Add related fields"
   ]
  },
  {
   "cell_type": "code",
   "execution_count": null,
   "metadata": {},
   "outputs": [],
   "source": [
    "trips[\"tour_participants\"] = trips.tour_id.map(tours.number_of_participants)\n",
    "trips[\"parent_tour_id\"] = trips.tour_id.map(tours.index.to_series()).map(tours.parent_tour_id)\n",
    "trips[\"tour_start\"] = trips.tour_id.map(tours.start)\n",
    "trips[\"parent_tour_start\"] = trips.parent_tour_id.map(tours.start)\n",
    "trips[\"parent_tour_end\"] = trips.parent_tour_id.map(tours.end)"
   ]
  },
  {
   "cell_type": "markdown",
   "metadata": {},
   "source": [
    "# create additional trips records for other persons on joint trips"
   ]
  },
  {
   "cell_type": "code",
   "execution_count": null,
   "metadata": {},
   "outputs": [],
   "source": [
    "tour_person_ids = jtp.groupby(\"tour_id\").apply(lambda x: pd.Series({\"person_ids\": \" \".join(x[\"person_id\"].astype(\"str\"))}))\n",
    "trips = trips.join(tour_person_ids, \"tour_id\")\n",
    "trips[\"person_ids\"] = trips[\"person_ids\"].fillna(\"\")\n",
    "trips.person_ids = trips.person_ids.where(trips.person_ids!=\"\", trips.person_id)\n",
    "trips[\"person_ids\"] = trips[\"person_ids\"].astype(str)\n",
    "\n",
    "person_ids = [*map(lambda x: x.split(\" \"),trips.person_ids.tolist())]\n",
    "person_ids = list(itertools.chain.from_iterable(person_ids))\n",
    "\n",
    "trips_expanded = trips.loc[np.repeat(trips.index, trips['tour_participants'])]\n",
    "trips_expanded.person_id = person_ids"
   ]
  },
  {
   "cell_type": "markdown",
   "metadata": {},
   "source": [
    "# sort records"
   ]
  },
  {
   "cell_type": "code",
   "execution_count": null,
   "metadata": {},
   "outputs": [],
   "source": [
    "trips_expanded[\"inbound\"] = ~trips_expanded.outbound\n",
    "trips_expanded = trips_expanded.sort_values(['person_id','tour_start','tour_id','inbound','trip_num'])\n",
    "trips_expanded['sort_id'] = range(len(trips_expanded))"
   ]
  },
  {
   "cell_type": "markdown",
   "metadata": {},
   "source": [
    "# join atwork trips to parent tour trips and find trip before atwork tour"
   ]
  },
  {
   "cell_type": "code",
   "execution_count": null,
   "metadata": {},
   "outputs": [],
   "source": [
    "first_atwork_trip = trips_expanded[trips_expanded.parent_tour_id.notnull()].drop_duplicates(\"tour_id\", keep=\"first\")\n",
    "parent_tour_trips_with_atwork_trips = trips_expanded.merge(first_atwork_trip, left_on=\"tour_id\", right_on=\"parent_tour_id\")\n",
    "parent_tour_trips_with_atwork_trips[\"atwork_depart_before\"] = parent_tour_trips_with_atwork_trips.eval(\"depart_y >= depart_x\")\n",
    "\n",
    "atwork_tour_earlier_trip_id = parent_tour_trips_with_atwork_trips[parent_tour_trips_with_atwork_trips[\"atwork_depart_before\"]][[\"tour_id_x\",\"sort_id_x\"]]\n",
    "atwork_tour_earlier_trip_id = atwork_tour_earlier_trip_id.drop_duplicates(\"tour_id_x\", keep=\"last\")\n",
    "atwork_tour_earlier_trip_id = atwork_tour_earlier_trip_id.set_index(\"tour_id_x\")\n",
    "\n",
    "trips_expanded.loc[trips_expanded.parent_tour_id.notnull(),\"parent_tour_sort_id\"] = atwork_tour_earlier_trip_id.loc[trips_expanded[trips_expanded.parent_tour_id.notnull()].parent_tour_id].sort_id_x.tolist()\n",
    "\n",
    "trips_expanded.loc[trips_expanded.parent_tour_id.notnull(),\"parent_tour_sort_id\"]\n",
    "\n",
    "trips_expanded[\"parent_tour_sort_id\"] = trips_expanded[\"parent_tour_sort_id\"] + 0.1\n",
    "trips_expanded[\"parent_tour_sort_id\"] = trips_expanded[\"parent_tour_sort_id\"].where(~trips_expanded[\"parent_tour_sort_id\"].duplicated(),trips_expanded[\"parent_tour_sort_id\"] + 0.1)\n",
    "trips_expanded[\"parent_tour_sort_id\"] = trips_expanded[\"parent_tour_sort_id\"].where(~trips_expanded[\"parent_tour_sort_id\"].duplicated(),trips_expanded[\"parent_tour_sort_id\"] + 0.1)\n",
    "trips_expanded[\"parent_tour_sort_id\"] = trips_expanded[\"parent_tour_sort_id\"].where(~trips_expanded[\"parent_tour_sort_id\"].duplicated(),trips_expanded[\"parent_tour_sort_id\"] + 0.1)\n",
    "\n",
    "trips_expanded.loc[trips_expanded.parent_tour_id.isnull(),\"parent_tour_sort_id\"] = trips_expanded.loc[trips_expanded.parent_tour_id.isnull(),\"sort_id\"]\n",
    "\n",
    "# sort records\n",
    "trips_expanded = trips_expanded.sort_values(['parent_tour_sort_id'])"
   ]
  },
  {
   "cell_type": "markdown",
   "metadata": {},
   "source": [
    "# write trips"
   ]
  },
  {
   "cell_type": "code",
   "execution_count": null,
   "metadata": {},
   "outputs": [],
   "source": [
    "# trips_expanded[trips_expanded.household_id.isin([\"1107250\"])].to_csv(\"test.csv\")\n",
    "# trips_expanded[trips_expanded.household_id.isin(trips_expanded.household_id.sample(frac=0.01))].to_csv(\"test.csv\")\n",
    "trips_expanded.to_csv(output_trip_filename)"
   ]
  }
 ],
 "metadata": {
  "colab": {
   "name": "asim_tutorial.ipynb",
   "provenance": [],
   "toc_visible": true
  },
  "kernelspec": {
   "display_name": "Python 3",
   "language": "python",
   "name": "python3"
  },
  "language_info": {
   "codemirror_mode": {
    "name": "ipython",
    "version": 3
   },
   "file_extension": ".py",
   "mimetype": "text/x-python",
   "name": "python",
   "nbconvert_exporter": "python",
   "pygments_lexer": "ipython3",
   "version": "3.7.3"
  }
 },
 "nbformat": 4,
 "nbformat_minor": 1
}
